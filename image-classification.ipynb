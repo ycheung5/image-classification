{
 "cells": [
  {
   "metadata": {
    "ExecuteTime": {
     "end_time": "2024-10-02T22:37:56.066605Z",
     "start_time": "2024-10-02T22:37:51.927665Z"
    }
   },
   "cell_type": "code",
   "source": [
    "from PIL import Image\n",
    "\n",
    "import torch\n",
    "import torch.nn as nn\n",
    "import torch.nn.functional as F\n",
    "import torch.optim as optim\n",
    "\n",
    "from torch.utils.data import DataLoader\n",
    "\n",
    "import torchvision.transforms as transforms"
   ],
   "id": "114234228a76ae48",
   "outputs": [],
   "execution_count": 1
  },
  {
   "metadata": {
    "collapsed": true,
    "ExecuteTime": {
     "end_time": "2024-10-02T22:37:59.444740Z",
     "start_time": "2024-10-02T22:37:56.069611Z"
    }
   },
   "cell_type": "code",
   "source": [
    "from datasets import load_dataset\n",
    "\n",
    "ds = load_dataset(\"uoft-cs/cifar10\")"
   ],
   "id": "initial_id",
   "outputs": [],
   "execution_count": 2
  },
  {
   "metadata": {
    "ExecuteTime": {
     "end_time": "2024-10-02T22:37:59.576168Z",
     "start_time": "2024-10-02T22:37:59.571917Z"
    }
   },
   "cell_type": "code",
   "source": [
    "label_names = ds['train'].features['label'].names\n",
    "print(label_names)"
   ],
   "id": "912a933d5cab9956",
   "outputs": [
    {
     "name": "stdout",
     "output_type": "stream",
     "text": [
      "['airplane', 'automobile', 'bird', 'cat', 'deer', 'dog', 'frog', 'horse', 'ship', 'truck']\n"
     ]
    }
   ],
   "execution_count": 3
  },
  {
   "metadata": {
    "ExecuteTime": {
     "end_time": "2024-10-02T22:37:59.648116Z",
     "start_time": "2024-10-02T22:37:59.644665Z"
    }
   },
   "cell_type": "code",
   "source": [
    "transform = transforms.Compose([\n",
    "    transforms.ToTensor(),\n",
    "    transforms.Normalize((0.5, 0.5, 0.5), (0.5, 0.5, 0.5))\n",
    "])"
   ],
   "id": "cd69327e185cf3cd",
   "outputs": [],
   "execution_count": 4
  },
  {
   "metadata": {
    "ExecuteTime": {
     "end_time": "2024-10-02T22:37:59.659820Z",
     "start_time": "2024-10-02T22:37:59.655676Z"
    }
   },
   "cell_type": "code",
   "source": [
    "def transform_images(example):\n",
    "    example['img'] = transform(example['img'])\n",
    "    return example\n"
   ],
   "id": "a8edba0b6e0e8e47",
   "outputs": [],
   "execution_count": 5
  },
  {
   "metadata": {
    "ExecuteTime": {
     "end_time": "2024-10-02T22:37:59.736386Z",
     "start_time": "2024-10-02T22:37:59.669150Z"
    }
   },
   "cell_type": "code",
   "source": "data_origin = ds.map(transform_images)",
   "id": "1c06089354d77262",
   "outputs": [],
   "execution_count": 6
  },
  {
   "metadata": {
    "ExecuteTime": {
     "end_time": "2024-10-02T22:43:02.197872Z",
     "start_time": "2024-10-02T22:43:02.194412Z"
    }
   },
   "cell_type": "code",
   "source": "data_origin.set_format(type='torch', columns=['img', 'label'])",
   "id": "e52b200911c4a0cb",
   "outputs": [],
   "execution_count": 12
  },
  {
   "metadata": {
    "ExecuteTime": {
     "end_time": "2024-10-02T22:43:02.866189Z",
     "start_time": "2024-10-02T22:43:02.861955Z"
    }
   },
   "cell_type": "code",
   "source": [
    "train_data = data_origin['train']\n",
    "test_data = data_origin['test']"
   ],
   "id": "e053bdc702beea6",
   "outputs": [],
   "execution_count": 13
  },
  {
   "metadata": {
    "ExecuteTime": {
     "end_time": "2024-10-02T22:43:14.750723Z",
     "start_time": "2024-10-02T22:43:14.739557Z"
    }
   },
   "cell_type": "code",
   "source": "type(train_data[0]['img'])",
   "id": "75fbfcd117d8becd",
   "outputs": [
    {
     "data": {
      "text/plain": [
       "torch.Tensor"
      ]
     },
     "execution_count": 15,
     "metadata": {},
     "output_type": "execute_result"
    }
   ],
   "execution_count": 15
  },
  {
   "metadata": {
    "ExecuteTime": {
     "end_time": "2024-10-02T22:43:51.362561Z",
     "start_time": "2024-10-02T22:43:51.359233Z"
    }
   },
   "cell_type": "code",
   "source": [
    "train_loader = DataLoader(train_data, batch_size=64, shuffle=True)\n",
    "test_loader = DataLoader(test_data, batch_size=64, shuffle=True)"
   ],
   "id": "718504f064110cf0",
   "outputs": [],
   "execution_count": 16
  },
  {
   "metadata": {
    "ExecuteTime": {
     "end_time": "2024-10-02T22:47:52.368936Z",
     "start_time": "2024-10-02T22:47:52.359982Z"
    }
   },
   "cell_type": "code",
   "source": "image, label = train_data[0]['img'], train_data[0]['label']",
   "id": "4ca078ba1ab04103",
   "outputs": [],
   "execution_count": 32
  },
  {
   "metadata": {
    "ExecuteTime": {
     "end_time": "2024-10-02T22:48:13.247737Z",
     "start_time": "2024-10-02T22:48:13.243333Z"
    }
   },
   "cell_type": "code",
   "source": "image.size()",
   "id": "80bb0d92f1ff4f9b",
   "outputs": [
    {
     "data": {
      "text/plain": [
       "torch.Size([3, 32, 32])"
      ]
     },
     "execution_count": 36,
     "metadata": {},
     "output_type": "execute_result"
    }
   ],
   "execution_count": 36
  },
  {
   "metadata": {
    "ExecuteTime": {
     "end_time": "2024-10-02T22:49:29.872270Z",
     "start_time": "2024-10-02T22:49:29.868239Z"
    }
   },
   "cell_type": "code",
   "source": "class_names = ds['train'].features['label'].names",
   "id": "10ef4f96e38c91f9",
   "outputs": [],
   "execution_count": 46
  },
  {
   "metadata": {
    "ExecuteTime": {
     "end_time": "2024-10-03T00:29:17.354566Z",
     "start_time": "2024-10-03T00:29:17.345870Z"
    }
   },
   "cell_type": "code",
   "source": [
    "class NeuralNet(nn.Module):\n",
    "    def __init__(self):\n",
    "        super().__init__()\n",
    "        \n",
    "        self.conv1 = nn.Conv2d(3, 12, 5)    # new shape = (12, 28, 28)\n",
    "        self.pool = nn.MaxPool2d(2, 2) # new shape = (12, 14, 14)\n",
    "        self.conv2 = nn.Conv2d(12, 24, 5) # new shape (24, 10, 10) -> (24, 5, 5) -> Flatten (24 * 5 * 5)\n",
    "        self.fc1 = nn.Linear(24 * 5 * 5, 120)\n",
    "        self.fc2 = nn.Linear(120, 84)\n",
    "        self.fc3 = nn.Linear(84, 10)\n",
    "        \n",
    "    def forward(self, x):\n",
    "        x = self.pool(F.relu(self.conv1(x)))\n",
    "        x = self.pool(F.relu(self.conv2(x)))\n",
    "        x = torch.flatten(x, 1)\n",
    "        x = F.relu(self.fc1(x))\n",
    "        x = F.relu(self.fc2(x))\n",
    "        x = self.fc3(x)\n",
    "        return x"
   ],
   "id": "6616dc35f2a2b080",
   "outputs": [],
   "execution_count": 47
  },
  {
   "metadata": {
    "ExecuteTime": {
     "end_time": "2024-10-03T00:30:00.682607Z",
     "start_time": "2024-10-03T00:30:00.664129Z"
    }
   },
   "cell_type": "code",
   "source": [
    "net = NeuralNet()\n",
    "loss_function = nn.CrossEntropyLoss()\n",
    "optimizer = optim.SGD(net.parameters(), lr=0.001, momentum=0.9)"
   ],
   "id": "91727304cb45ac19",
   "outputs": [],
   "execution_count": 48
  },
  {
   "metadata": {
    "ExecuteTime": {
     "end_time": "2024-10-03T01:10:16.360180Z",
     "start_time": "2024-10-03T00:36:00.718660Z"
    }
   },
   "cell_type": "code",
   "source": [
    "for epoch in range(30):\n",
    "    print(f'Training epoch {epoch}...')\n",
    "    \n",
    "    running_loss = 0.0\n",
    "    \n",
    "    for i, data in enumerate(train_loader, 0):\n",
    "        inputs, labels = data['img'], data['label']\n",
    "        \n",
    "        optimizer.zero_grad()\n",
    "\n",
    "        outputs = net(inputs)\n",
    "\n",
    "        loss = loss_function(outputs, labels)\n",
    "        loss.backward()\n",
    "        optimizer.step()\n",
    "\n",
    "        running_loss += loss.item()\n",
    "\n",
    "    print(f'Training loss {running_loss/len(train_loader):.4f}')"
   ],
   "id": "6f72be06cd9a0887",
   "outputs": [
    {
     "name": "stdout",
     "output_type": "stream",
     "text": [
      "Training epoch 0...\n",
      "Training loss 2.2968\n",
      "Training epoch 1...\n",
      "Training loss 2.1139\n",
      "Training epoch 2...\n",
      "Training loss 1.8425\n",
      "Training epoch 3...\n",
      "Training loss 1.6492\n",
      "Training epoch 4...\n",
      "Training loss 1.5437\n",
      "Training epoch 5...\n",
      "Training loss 1.4640\n",
      "Training epoch 6...\n",
      "Training loss 1.4021\n",
      "Training epoch 7...\n",
      "Training loss 1.3467\n",
      "Training epoch 8...\n",
      "Training loss 1.2979\n",
      "Training epoch 9...\n",
      "Training loss 1.2468\n",
      "Training epoch 10...\n",
      "Training loss 1.2040\n",
      "Training epoch 11...\n",
      "Training loss 1.1607\n",
      "Training epoch 12...\n",
      "Training loss 1.1260\n",
      "Training epoch 13...\n",
      "Training loss 1.0908\n",
      "Training epoch 14...\n",
      "Training loss 1.0553\n",
      "Training epoch 15...\n",
      "Training loss 1.0208\n",
      "Training epoch 16...\n",
      "Training loss 0.9971\n",
      "Training epoch 17...\n",
      "Training loss 0.9729\n",
      "Training epoch 18...\n",
      "Training loss 0.9423\n",
      "Training epoch 19...\n",
      "Training loss 0.9179\n",
      "Training epoch 20...\n",
      "Training loss 0.9039\n",
      "Training epoch 21...\n",
      "Training loss 0.8783\n",
      "Training epoch 22...\n",
      "Training loss 0.8570\n",
      "Training epoch 23...\n",
      "Training loss 0.8347\n",
      "Training epoch 24...\n",
      "Training loss 0.8156\n",
      "Training epoch 25...\n",
      "Training loss 0.7985\n",
      "Training epoch 26...\n",
      "Training loss 0.7818\n",
      "Training epoch 27...\n",
      "Training loss 0.7645\n",
      "Training epoch 28...\n",
      "Training loss 0.7470\n",
      "Training epoch 29...\n",
      "Training loss 0.7301\n"
     ]
    }
   ],
   "execution_count": 58
  },
  {
   "metadata": {
    "ExecuteTime": {
     "end_time": "2024-10-03T01:10:16.469745Z",
     "start_time": "2024-10-03T01:10:16.450031Z"
    }
   },
   "cell_type": "code",
   "source": "torch.save(net.state_dict(), 'trained_net.pth')",
   "id": "c01bff0bf4809ab8",
   "outputs": [],
   "execution_count": 59
  },
  {
   "metadata": {
    "ExecuteTime": {
     "end_time": "2024-10-03T01:10:16.510068Z",
     "start_time": "2024-10-03T01:10:16.490034Z"
    }
   },
   "cell_type": "code",
   "source": [
    "net = NeuralNet()\n",
    "net.load_state_dict(torch.load('trained_net.pth'))"
   ],
   "id": "62016f814b1c125c",
   "outputs": [
    {
     "name": "stderr",
     "output_type": "stream",
     "text": [
      "C:\\Users\\ccycc\\AppData\\Local\\Temp\\ipykernel_16144\\1537608525.py:2: FutureWarning: You are using `torch.load` with `weights_only=False` (the current default value), which uses the default pickle module implicitly. It is possible to construct malicious pickle data which will execute arbitrary code during unpickling (See https://github.com/pytorch/pytorch/blob/main/SECURITY.md#untrusted-models for more details). In a future release, the default value for `weights_only` will be flipped to `True`. This limits the functions that could be executed during unpickling. Arbitrary objects will no longer be allowed to be loaded via this mode unless they are explicitly allowlisted by the user via `torch.serialization.add_safe_globals`. We recommend you start setting `weights_only=True` for any use case where you don't have full control of the loaded file. Please open an issue on GitHub for any issues related to this experimental feature.\n",
      "  net.load_state_dict(torch.load('trained_net.pth'))\n"
     ]
    },
    {
     "data": {
      "text/plain": [
       "<All keys matched successfully>"
      ]
     },
     "execution_count": 60,
     "metadata": {},
     "output_type": "execute_result"
    }
   ],
   "execution_count": 60
  },
  {
   "metadata": {
    "ExecuteTime": {
     "end_time": "2024-10-03T01:10:26.911917Z",
     "start_time": "2024-10-03T01:10:16.600560Z"
    }
   },
   "cell_type": "code",
   "source": [
    "correct = 0\n",
    "total = 0\n",
    "\n",
    "net.eval()\n",
    "with torch.no_grad():\n",
    "    for data in test_loader:\n",
    "        images, labels = data['img'], data['label']\n",
    "        outputs = net(images)\n",
    "        _, predicted = torch.max(outputs.data, 1)\n",
    "        total += labels.size(0)\n",
    "        correct += (predicted == labels).sum().item()\n",
    "        \n",
    "accuracy = 100 * correct / total\n",
    "\n",
    "print(f'Accuracy of the network on the 10000 test images: {accuracy}%')"
   ],
   "id": "b978d72cd0510d84",
   "outputs": [
    {
     "name": "stdout",
     "output_type": "stream",
     "text": [
      "Accuracy of the network on the 10000 test images: 67.44%\n"
     ]
    }
   ],
   "execution_count": 61
  },
  {
   "metadata": {
    "ExecuteTime": {
     "end_time": "2024-10-03T01:13:43.007688Z",
     "start_time": "2024-10-03T01:13:43.001893Z"
    }
   },
   "cell_type": "code",
   "source": [
    "new_transform = transforms.Compose([\n",
    "    transforms.Resize((32, 32)),\n",
    "    transforms.ToTensor(),\n",
    "    transforms.Normalize((0.5, 0.5, 0.5), (0.5, 0.5, 0.5))\n",
    "])\n",
    "\n",
    "def load_image(image_path):\n",
    "    image = Image.open(image_path)\n",
    "    image = new_transform(image)\n",
    "    image = image.unsqueeze(0)\n",
    "    return image"
   ],
   "id": "f8af044fd0fb9ee1",
   "outputs": [],
   "execution_count": 62
  },
  {
   "metadata": {
    "ExecuteTime": {
     "end_time": "2024-10-03T01:16:54.651019Z",
     "start_time": "2024-10-03T01:16:54.647093Z"
    }
   },
   "cell_type": "code",
   "source": [
    "image_paths = []\n",
    "images = [load_image(img) for img in image_paths]\n",
    "\n",
    "net.eval()\n",
    "correct = 0\n",
    "total = 0\n",
    "\n",
    "net.eval()\n",
    "with torch.no_grad():\n",
    "    for data in images:\n",
    "        images, labels = data['img'], data['label']\n",
    "        outputs = net(images)\n",
    "        _, predicted = torch.max(outputs.data, 1)\n",
    "        print(f'Prediction: {class_names[predicted.item()]}')"
   ],
   "id": "5cd1b1f0dfa3f9c0",
   "outputs": [],
   "execution_count": 68
  },
  {
   "metadata": {},
   "cell_type": "code",
   "outputs": [],
   "execution_count": null,
   "source": "",
   "id": "1dd09eed87b1fad6"
  }
 ],
 "metadata": {
  "kernelspec": {
   "display_name": "Python 3",
   "language": "python",
   "name": "python3"
  },
  "language_info": {
   "codemirror_mode": {
    "name": "ipython",
    "version": 2
   },
   "file_extension": ".py",
   "mimetype": "text/x-python",
   "name": "python",
   "nbconvert_exporter": "python",
   "pygments_lexer": "ipython2",
   "version": "2.7.6"
  }
 },
 "nbformat": 4,
 "nbformat_minor": 5
}
